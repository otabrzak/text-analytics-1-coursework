{
 "cells": [
  {
   "cell_type": "markdown",
   "id": "6bcb861d",
   "metadata": {},
   "source": [
    "\n",
    "Semestral Work Assignment (4IZ172) – Clustering\n",
    "# General information\n",
    "One of two possible choices\n",
    "The final form is a Jupyter Notebook\n",
    "Recommended languages: Python, R\n",
    "Follow the outline sketched below\n"
   ]
  },
  {
   "cell_type": "code",
   "execution_count": 43,
   "id": "376053f2",
   "metadata": {},
   "outputs": [],
   "source": [
    "import pandas as pd\n",
    "import chardet"
   ]
  },
  {
   "cell_type": "markdown",
   "id": "9256a9cd",
   "metadata": {},
   "source": [
    "\n",
    "# Dataset\n",
    "3 choices -- 3 datasets will be prepared in the following days: diploma theses, aerospace enterprises, scientific results\n",
    "\n",
    "The section should contain:\n",
    "\n",
    "Description of the dataset\n",
    "Basic statistics / reports about the selected dataset, incl. linguistic and textual features\n"
   ]
  },
  {
   "cell_type": "code",
   "execution_count": 99,
   "id": "ac8d1624",
   "metadata": {},
   "outputs": [
    {
     "name": "stdout",
     "output_type": "stream",
     "text": [
      "Detected encoding: Windows-1254\n"
     ]
    }
   ],
   "source": [
    "with open('data/RawDatasetFISbachelor.csv', 'rb') as f:\n",
    "    rawdata = f.read()\n",
    "result = chardet.detect(rawdata)\n",
    "encoding = result['encoding']\n",
    "print(f\"Detected encoding: {encoding}\")"
   ]
  },
  {
   "cell_type": "code",
   "execution_count": 132,
   "id": "5d4d40e9",
   "metadata": {},
   "outputs": [],
   "source": [
    "\n",
    "df_aero = pd.read_csv(\"data/FR-aerospace-translate.csv\")\n",
    "\n",
    "df_fis = pd.read_csv(\"data/RawDatasetFISbachelor.csv\",encoding=\"UTF-8-SIG\", lineterminator='\\r',sep=\";\")\n",
    "df_fis = df_fis.replace(r'\\n',' ', regex=True) \n",
    "\n",
    "df_utia = pd.read_csv(\"data/UTIAresults.csv\")"
   ]
  },
  {
   "cell_type": "markdown",
   "id": "9ec09cc7",
   "metadata": {},
   "source": [
    "\n",
    "# Preprocessing\n",
    "The section should contain:\n",
    "\n",
    "Description of preprocessing steps involved\n",
    "Report on the preprocessing results\n"
   ]
  },
  {
   "cell_type": "markdown",
   "id": "ad87de59",
   "metadata": {},
   "source": [
    "\n",
    "# Clustering\n",
    "This section should contain:\n",
    "\n",
    "List of clustering methods considered\n",
    "Estimation of the number of clusters (methods, results, discussion)\n",
    "Comparison of (the results of) clustering methods on the selected dataset\n"
   ]
  },
  {
   "cell_type": "markdown",
   "id": "7c7c443c",
   "metadata": {},
   "source": [
    "\n",
    "# Cluster Descriptions\n",
    "The clusters (at least important part of them) should be described.\n",
    "\n",
    "This section should contain:\n",
    "\n",
    "Description of the selected approach\n",
    "Examples of the descriptions obtained\n"
   ]
  },
  {
   "cell_type": "markdown",
   "id": "ed69923c",
   "metadata": {},
   "source": [
    "\n",
    "# # Visualization\n",
    "This section should contain:\n",
    "\n",
    "At least one visualization related to clustering\n"
   ]
  },
  {
   "cell_type": "markdown",
   "id": "3987564f",
   "metadata": {},
   "source": [
    "\n",
    "# Analytical Report\n",
    "The entire work should be ended by the final analytical report of findings on the selected dataset. It should point out your main results, their justifications, hypotheses, conclusions, outliers, ..."
   ]
  },
  {
   "cell_type": "code",
   "execution_count": null,
   "id": "1fc2fc84",
   "metadata": {},
   "outputs": [],
   "source": []
  }
 ],
 "metadata": {
  "kernelspec": {
   "display_name": ".venv",
   "language": "python",
   "name": "python3"
  },
  "language_info": {
   "codemirror_mode": {
    "name": "ipython",
    "version": 3
   },
   "file_extension": ".py",
   "mimetype": "text/x-python",
   "name": "python",
   "nbconvert_exporter": "python",
   "pygments_lexer": "ipython3",
   "version": "3.12.6"
  }
 },
 "nbformat": 4,
 "nbformat_minor": 5
}
