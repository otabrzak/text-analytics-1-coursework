{
 "cells": [
  {
   "cell_type": "markdown",
   "id": "6bcb861d",
   "metadata": {},
   "source": [
    "\n",
    "Semestral Work Assignment (4IZ172) – Clustering\n",
    "# General information\n",
    "One of two possible choices\n",
    "The final form is a Jupyter Notebook\n",
    "Recommended languages: Python, R\n",
    "Follow the outline sketched below\n",
    "\n",
    "# Dataset\n",
    "3 choices -- 3 datasets will be prepared in the following days: diploma theses, aerospace enterprises, scientific results\n",
    "\n",
    "The section should contain:\n",
    "\n",
    "Description of the dataset\n",
    "Basic statistics / reports about the selected dataset, incl. linguistic and textual features\n",
    "# Preprocessing\n",
    "The section should contain:\n",
    "\n",
    "Description of preprocessing steps involved\n",
    "Report on the preprocessing results\n",
    "# Clustering\n",
    "This section should contain:\n",
    "\n",
    "List of clustering methods considered\n",
    "Estimation of the number of clusters (methods, results, discussion)\n",
    "Comparison of (the results of) clustering methods on the selected dataset\n",
    "# Cluster Descriptions\n",
    "The clusters (at least important part of them) should be described.\n",
    "\n",
    "This section should contain:\n",
    "\n",
    "Description of the selected approach\n",
    "Examples of the descriptions obtained\n",
    "# # Visualization\n",
    "This section should contain:\n",
    "\n",
    "At least one visualization related to clustering\n",
    "# Analytical Report\n",
    "The entire work should be ended by the final analytical report of findings on the selected dataset. It should point out your main results, their justifications, hypotheses, conclusions, outliers, ..."
   ]
  },
  {
   "cell_type": "code",
   "execution_count": null,
   "id": "1fc2fc84",
   "metadata": {
    "vscode": {
     "languageId": "plaintext"
    }
   },
   "outputs": [],
   "source": []
  }
 ],
 "metadata": {
  "language_info": {
   "name": "python"
  }
 },
 "nbformat": 4,
 "nbformat_minor": 5
}
